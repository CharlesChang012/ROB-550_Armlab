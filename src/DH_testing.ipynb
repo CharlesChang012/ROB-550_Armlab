{
 "cells": [
  {
   "cell_type": "code",
   "execution_count": 2,
   "id": "f49b9256-eeb2-4c38-a3c9-10c72390dc54",
   "metadata": {
    "tags": []
   },
   "outputs": [],
   "source": [
    "import numpy as np\n",
    "import math"
   ]
  },
  {
   "cell_type": "code",
   "execution_count": 3,
   "id": "dc92d1e9-5a8e-4792-a14a-2a0c4e13167d",
   "metadata": {
    "tags": []
   },
   "outputs": [],
   "source": [
    "def dh_matrix_list(theta, d, a, alpha):\n",
    "    if not (len(theta) == len(d) == len(a) == len(alpha)):\n",
    "        raise ValueError(\"non-equal dh params.\")\n",
    "    \n",
    "    n = len(theta)\n",
    "    dh_matrices = []\n",
    "    \n",
    "    for i in range(n):\n",
    "        matrix = np.array([\n",
    "            [np.cos(theta[i]), -np.sin(theta[i]) * np.cos(alpha[i]),  np.sin(theta[i]) * np.sin(alpha[i]), a[i] * np.cos(theta[i])],\n",
    "            [np.sin(theta[i]),  np.cos(theta[i]) * np.cos(alpha[i]), -np.cos(theta[i]) * np.sin(alpha[i]), a[i] * np.sin(theta[i])],\n",
    "            [0,                 np.sin(alpha[i]),                   np.cos(alpha[i]),                   d[i]],\n",
    "            [0,                 0,                                  0,                                  1]\n",
    "        ])\n",
    "        dh_matrices.append(matrix)\n",
    "    \n",
    "    return np.array(dh_matrices)\n",
    "\n",
    "\n",
    "def comp_forward_kin(dh_matrices):\n",
    "    if not isinstance(dh_matrices, np.ndarray) or len(dh_matrices.shape) != 3 or dh_matrices.shape[1:] != (4, 4):\n",
    "        raise ValueError(\"Input must be a np array with shape (n, 4, 4).\")\n",
    "    \n",
    "    cumulative_matrix = np.eye(4)\n",
    "    \n",
    "    for i, matrix in enumerate(dh_matrices):\n",
    "        cumulative_matrix = np.dot(cumulative_matrix, matrix)\n",
    "        \n",
    "        position = cumulative_matrix[:3, 3]\n",
    "        print(f\"Step {i+1}: x = {position[0]:.4f}, y = {position[1]:.4f}, z = {position[2]:.4f}\")\n",
    "    \n",
    "    return cumulative_matrix\n"
   ]
  },
  {
   "cell_type": "code",
   "execution_count": 4,
   "id": "062bdd1e-fd9f-4e09-b6ce-82cefcf3ee1d",
   "metadata": {
    "tags": []
   },
   "outputs": [],
   "source": [
    "d = [103.91, 0, 0, 0, 129]\n",
    "a = [0, 200, 200, 0, 0]\n",
    "alpha = [-1*math.pi/2, 0, 0, math.pi/2, 0]"
   ]
  },
  {
   "cell_type": "code",
   "execution_count": 5,
   "id": "2c211a8e-ce5e-4732-9a7b-3fb3347bf775",
   "metadata": {
    "tags": []
   },
   "outputs": [],
   "source": [
    "theta = [math.pi/2,0,0,0,0]"
   ]
  },
  {
   "cell_type": "code",
   "execution_count": 6,
   "id": "989025d4-2c73-4892-af5b-c9b165bbe07a",
   "metadata": {
    "tags": []
   },
   "outputs": [
    {
     "data": {
      "text/plain": [
       "array([[[ 6.12323400e-17, -6.12323400e-17, -1.00000000e+00,\n",
       "          0.00000000e+00],\n",
       "        [ 1.00000000e+00,  3.74939946e-33,  6.12323400e-17,\n",
       "          0.00000000e+00],\n",
       "        [ 0.00000000e+00, -1.00000000e+00,  6.12323400e-17,\n",
       "          1.03910000e+02],\n",
       "        [ 0.00000000e+00,  0.00000000e+00,  0.00000000e+00,\n",
       "          1.00000000e+00]],\n",
       "\n",
       "       [[ 1.00000000e+00, -0.00000000e+00,  0.00000000e+00,\n",
       "          2.00000000e+02],\n",
       "        [ 0.00000000e+00,  1.00000000e+00, -0.00000000e+00,\n",
       "          0.00000000e+00],\n",
       "        [ 0.00000000e+00,  0.00000000e+00,  1.00000000e+00,\n",
       "          0.00000000e+00],\n",
       "        [ 0.00000000e+00,  0.00000000e+00,  0.00000000e+00,\n",
       "          1.00000000e+00]],\n",
       "\n",
       "       [[ 1.00000000e+00, -0.00000000e+00,  0.00000000e+00,\n",
       "          2.00000000e+02],\n",
       "        [ 0.00000000e+00,  1.00000000e+00, -0.00000000e+00,\n",
       "          0.00000000e+00],\n",
       "        [ 0.00000000e+00,  0.00000000e+00,  1.00000000e+00,\n",
       "          0.00000000e+00],\n",
       "        [ 0.00000000e+00,  0.00000000e+00,  0.00000000e+00,\n",
       "          1.00000000e+00]],\n",
       "\n",
       "       [[ 1.00000000e+00, -0.00000000e+00,  0.00000000e+00,\n",
       "          0.00000000e+00],\n",
       "        [ 0.00000000e+00,  6.12323400e-17, -1.00000000e+00,\n",
       "          0.00000000e+00],\n",
       "        [ 0.00000000e+00,  1.00000000e+00,  6.12323400e-17,\n",
       "          0.00000000e+00],\n",
       "        [ 0.00000000e+00,  0.00000000e+00,  0.00000000e+00,\n",
       "          1.00000000e+00]],\n",
       "\n",
       "       [[ 1.00000000e+00, -0.00000000e+00,  0.00000000e+00,\n",
       "          0.00000000e+00],\n",
       "        [ 0.00000000e+00,  1.00000000e+00, -0.00000000e+00,\n",
       "          0.00000000e+00],\n",
       "        [ 0.00000000e+00,  0.00000000e+00,  1.00000000e+00,\n",
       "          1.29000000e+02],\n",
       "        [ 0.00000000e+00,  0.00000000e+00,  0.00000000e+00,\n",
       "          1.00000000e+00]]])"
      ]
     },
     "execution_count": 6,
     "metadata": {},
     "output_type": "execute_result"
    }
   ],
   "source": [
    "dh_list = dh_matrix_list(theta, d, a, alpha)\n",
    "dh_list"
   ]
  },
  {
   "cell_type": "code",
   "execution_count": 7,
   "id": "5a0c9a0e-71e5-4fb3-a4d7-87f335217ef4",
   "metadata": {
    "tags": []
   },
   "outputs": [
    {
     "name": "stdout",
     "output_type": "stream",
     "text": [
      "Step 1: x = 0.0000, y = 0.0000, z = 103.9100\n",
      "Step 2: x = 0.0000, y = 200.0000, z = 103.9100\n",
      "Step 3: x = 0.0000, y = 400.0000, z = 103.9100\n",
      "Step 4: x = 0.0000, y = 400.0000, z = 103.9100\n",
      "Step 5: x = 0.0000, y = 400.0000, z = 232.9100\n"
     ]
    },
    {
     "data": {
      "text/plain": [
       "array([[ 6.1232340e-17, -1.0000000e+00,  0.0000000e+00,  2.4492936e-14],\n",
       "       [ 1.0000000e+00,  6.1232340e-17,  0.0000000e+00,  4.0000000e+02],\n",
       "       [ 0.0000000e+00,  0.0000000e+00,  1.0000000e+00,  2.3291000e+02],\n",
       "       [ 0.0000000e+00,  0.0000000e+00,  0.0000000e+00,  1.0000000e+00]])"
      ]
     },
     "execution_count": 7,
     "metadata": {},
     "output_type": "execute_result"
    }
   ],
   "source": [
    "comp_forward_kin(dh_list)"
   ]
  },
  {
   "cell_type": "code",
   "execution_count": null,
   "id": "482ca1d2-4bb3-4f9c-a31b-263eeeadc4e4",
   "metadata": {},
   "outputs": [],
   "source": []
  }
 ],
 "metadata": {
  "kernelspec": {
   "display_name": "Python 3",
   "language": "python",
   "name": "python3"
  },
  "language_info": {
   "codemirror_mode": {
    "name": "ipython",
    "version": 3
   },
   "file_extension": ".py",
   "mimetype": "text/x-python",
   "name": "python",
   "nbconvert_exporter": "python",
   "pygments_lexer": "ipython3",
   "version": "3.10.12"
  }
 },
 "nbformat": 4,
 "nbformat_minor": 5
}

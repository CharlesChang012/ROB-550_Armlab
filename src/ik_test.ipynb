{
 "cells": [
  {
   "cell_type": "code",
   "execution_count": 99,
   "metadata": {},
   "outputs": [],
   "source": [
    "import numpy as np"
   ]
  },
  {
   "cell_type": "code",
   "execution_count": 100,
   "metadata": {},
   "outputs": [],
   "source": [
    "\n",
    "pose = [105, 340, 40, 1.87]\n",
    "#pose = [242.82, 16.41, 48.48, 2.97]\n",
    "#pose = [157.67, 136.43, 45.02, 3.04]\n",
    "pose = [175, 199, 290, 3.14]"
   ]
  },
  {
   "cell_type": "code",
   "execution_count": 101,
   "metadata": {},
   "outputs": [],
   "source": [
    "dh_params = np.array([[0,-1.5708,103.91,1.5708],\n",
    "            [205.73,0.0,0.0,-1.3342],\n",
    "            [200,0.0,0, 1.2888],\n",
    "            [0.0,1.5708,0.0,1.5708],\n",
    "            [0.0,0.0,131,0.0]])"
   ]
  },
  {
   "cell_type": "code",
   "execution_count": 102,
   "metadata": {},
   "outputs": [
    {
     "name": "stdout",
     "output_type": "stream",
     "text": [
      "theta1\n",
      "-41.32829990162929\n",
      "theta2\n",
      "-34.274635009124594\n",
      "theta3\n",
      "99.81019046411235\n",
      "theta4\n",
      "24.37319221609074\n"
     ]
    },
    {
     "data": {
      "text/plain": [
       "0.6100517008517157"
      ]
     },
     "execution_count": 102,
     "metadata": {},
     "output_type": "execute_result"
    }
   ],
   "source": [
    "\n",
    "\n",
    "x,y,z,psi = pose\n",
    "psi = psi-np.deg2rad(90)\n",
    "\n",
    "l1 = dh_params[0][2]\n",
    "l2 = dh_params[1][0]\n",
    "l3 = dh_params[2][0]\n",
    "l4 = dh_params[4][2]\n",
    "\n",
    "theta1 = np.arctan2(-x,y)\n",
    "theta5 = 0\n",
    "\n",
    "\n",
    "D = np.sqrt(x**2+y**2)\n",
    "D_hat = D - l4*np.cos(psi)\n",
    "z_hat = z + l4*np.sin(psi)\n",
    "z_hat = z_hat \n",
    "\n",
    "\n",
    "r = np.sqrt(D_hat**2+z_hat**2)\n",
    "\n",
    "value = ((l2**2 + l3**2 - r**2)/(2*l2*l3)%2 )/2\n",
    "\n",
    "\n",
    "elbow = np.arccos(value)\n",
    "\n",
    "\n",
    "\n",
    "theta3 = np.pi/2 + np.arctan2(50, 200) - elbow\n",
    "\n",
    "\n",
    "value = ((r**2 + l2**2 - l3**2)/(2*r*l2) % 2 )/2\n",
    "\n",
    "theta2= np.pi/2 - np.arctan2(50, 200) - np.arctan2(z_hat,D_hat) - np.arccos(value)\n",
    "\n",
    "theta4 = psi - (theta2 + theta3)\n",
    "\n",
    "#theta3 -= np.arctan2(200, 50)\n",
    "#theta2 -= np.arctan2(50, 200)\n",
    "print(\"theta1\")\n",
    "print(np.rad2deg(theta1))\n",
    "print(\"theta2\")\n",
    "print(np.rad2deg(theta2))\n",
    "print(\"theta3\")\n",
    "print(np.rad2deg(theta3))\n",
    "print(\"theta4\")\n",
    "print(np.rad2deg(theta4))\n",
    "pos = [theta1, theta2, theta3, theta4, theta5]\n",
    "#pos = [theta1, 21.18, 10.9, 62.23, theta5]\n",
    "value"
   ]
  },
  {
   "cell_type": "code",
   "execution_count": 103,
   "metadata": {},
   "outputs": [],
   "source": [
    "def dh_matrix_list_gen(theta, d, a, alpha):\n",
    "    if not (len(theta) == len(d) == len(a) == len(alpha)):\n",
    "        raise ValueError(\"non-equal dh params.\")\n",
    "    \n",
    "    n = len(theta)\n",
    "    dh_matrices = []\n",
    "\n",
    "    for i in range(n):\n",
    "        matrix = np.array([\n",
    "            [np.cos(theta[i]), -np.sin(theta[i]) * np.cos(alpha[i]),  np.sin(theta[i]) * np.sin(alpha[i]), a[i] * np.cos(theta[i])],\n",
    "            [np.sin(theta[i]),  np.cos(theta[i]) * np.cos(alpha[i]), -np.cos(theta[i]) * np.sin(alpha[i]), a[i] * np.sin(theta[i])],\n",
    "            [0,                 np.sin(alpha[i]),                   np.cos(alpha[i]),                   d[i]],\n",
    "            [0,                 0,                                  0,                                  1]\n",
    "        ])\n",
    "        dh_matrices.append(matrix)\n",
    "\n",
    "    return np.array(dh_matrices)"
   ]
  },
  {
   "cell_type": "code",
   "execution_count": 104,
   "metadata": {},
   "outputs": [],
   "source": [
    "def comp_forward_kin(dh_matrices):\n",
    "    if not isinstance(dh_matrices, np.ndarray) or len(dh_matrices.shape) != 3 or dh_matrices.shape[1:] != (4, 4):\n",
    "        raise ValueError(\"Input must be a np array with shape (n, 4, 4).\")\n",
    "    \n",
    "    cumulative_matrix = np.eye(4)\n",
    "    \n",
    "    for i, matrix in enumerate(dh_matrices):\n",
    "        cumulative_matrix = np.dot(cumulative_matrix, matrix)\n",
    "        \n",
    "        position = cumulative_matrix[:3, 3]\n",
    "        #print(f\"Step {i+1}: x = {position[0]:.4f}, y = {position[1]:.4f}, z = {position[2]:.4f}\")\n",
    "    return cumulative_matrix"
   ]
  },
  {
   "cell_type": "code",
   "execution_count": 105,
   "metadata": {},
   "outputs": [],
   "source": [
    "def FK_dh(dh_params, joint_angles, link):\n",
    "    \"\"\"!\n",
    "    @brief      Get the 4x4 transformation matrix from link to world\n",
    "\n",
    "                TODO: implement this function\n",
    "\n",
    "                Calculate forward kinematics for rexarm using DH convention\n",
    "\n",
    "                return a transformation matrix representing the pose of the desired link\n",
    "\n",
    "                note: phi is the euler angle about the y-axis in the base frame\n",
    "\n",
    "    @param      dh_params     The dh parameters as a 2D list each row represents a link and has the format [a, alpha, d,\n",
    "                              theta]\n",
    "    @param      joint_angles  The joint angles of the links\n",
    "    @param      link          The link to transform from\n",
    "\n",
    "    @return     a transformation matrix representing the pose of the desired link\n",
    "    \"\"\"\n",
    "\n",
    "    theta = dh_params[:,3]\n",
    "    a = dh_params[:,0]\n",
    "    alpha = dh_params[:,1]\n",
    "    d = dh_params[:,2]\n",
    "\n",
    "    theta = theta + joint_angles\n",
    "\n",
    "    dh_matrix_list = dh_matrix_list_gen(theta, d, a, alpha)\n",
    "\n",
    "    return comp_forward_kin(dh_matrix_list)"
   ]
  },
  {
   "cell_type": "code",
   "execution_count": 106,
   "metadata": {},
   "outputs": [],
   "source": [
    "def get_pose_from_T(T):\n",
    "    \"\"\"!\n",
    "    @brief      Gets the pose from T.\n",
    "\n",
    "                TODO: implement this function return the 6DOF pose vector from a 4x4 transformation matrix T\n",
    "\n",
    "    @param      T     transformation matrix\n",
    "\n",
    "    @return     The pose vector from T.\n",
    "    \"\"\"\n",
    "\n",
    "    position = T[:3, 3]\n",
    "    phi = np.arctan2(T[1,2],-T[0,2])\n",
    "    theta = np.arccos(T[2,2])\n",
    "    psi = np.arctan2(T[2,1], T[2,0])\n",
    "\n",
    "    return [position[0], position[1], position[2], phi, theta, psi]"
   ]
  },
  {
   "cell_type": "code",
   "execution_count": 107,
   "metadata": {},
   "outputs": [
    {
     "name": "stdout",
     "output_type": "stream",
     "text": [
      "ee_pose\n",
      "[16.09556257558835, 18.30171275578283, -12.617317479743946, 2.292263875612213, 3.094603672630925, -3.141436339102452]\n"
     ]
    }
   ],
   "source": [
    "ee_T = FK_dh(dh_params, pos, 5)\n",
    "ee_pose = get_pose_from_T(ee_T)\n",
    "print(\"ee_pose\")\n",
    "print(ee_pose)\n",
    "\n",
    "pose = [105, 340, 40, 1.87]\n",
    "pose = [242.82, 16.41, 48.48, 2.97]\n",
    "#pose = [157.67, 136.43, 45.02, 3.04]"
   ]
  },
  {
   "cell_type": "code",
   "execution_count": null,
   "metadata": {},
   "outputs": [],
   "source": []
  },
  {
   "cell_type": "code",
   "execution_count": null,
   "metadata": {},
   "outputs": [],
   "source": []
  }
 ],
 "metadata": {
  "kernelspec": {
   "display_name": "Python 3",
   "language": "python",
   "name": "python3"
  },
  "language_info": {
   "codemirror_mode": {
    "name": "ipython",
    "version": 3
   },
   "file_extension": ".py",
   "mimetype": "text/x-python",
   "name": "python",
   "nbconvert_exporter": "python",
   "pygments_lexer": "ipython3",
   "version": "3.10.12"
  }
 },
 "nbformat": 4,
 "nbformat_minor": 2
}

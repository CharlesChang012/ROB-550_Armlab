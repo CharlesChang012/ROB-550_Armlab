{
 "cells": [
  {
   "cell_type": "code",
   "execution_count": 1,
   "metadata": {},
   "outputs": [],
   "source": [
    "import numpy as np"
   ]
  },
  {
   "cell_type": "code",
   "execution_count": 245,
   "metadata": {},
   "outputs": [],
   "source": [
    "\n",
    "pose = [169.74, 178.84, 46.45, 3.02]"
   ]
  },
  {
   "cell_type": "code",
   "execution_count": 246,
   "metadata": {},
   "outputs": [],
   "source": [
    "dh_params = [[0,-1.5708,103.91,1.5708],\n",
    "            [205.73,0.0,0.0,-1.3342],\n",
    "            [200,0.0,0, 1.2888],\n",
    "            [0.0,1.5708,0.0,1.5708],\n",
    "            [0.0,0.0,131,0.0]]"
   ]
  },
  {
   "cell_type": "code",
   "execution_count": 287,
   "metadata": {},
   "outputs": [
    {
     "name": "stdout",
     "output_type": "stream",
     "text": [
      "83.03325412950862\n"
     ]
    }
   ],
   "source": [
    "\n",
    "\n",
    "x,y,z,psi = pose\n",
    "psi = psi-np.deg2rad(90)\n",
    "print(np.rad2deg(psi))\n",
    "l1 = dh_params[0][2]\n",
    "l2 = dh_params[1][0]\n",
    "l3 = dh_params[2][0]\n",
    "l4 = dh_params[4][2]\n",
    "\n",
    "z=z-l1\n",
    "\n",
    "theta1 = -1*np.arctan2(x,y)\n",
    "theta5 = 0\n",
    "\n",
    "\n",
    "\n",
    "D = np.sqrt(x**2+y**2)\n",
    "#D_hat = D - l4*np.sin(psi)\n",
    "#z_hat = z + l4*np.cos(psi)\n",
    "D_hat = D - l4*np.cos(psi)\n",
    "z_hat = z + l4*np.sin(psi)  \n",
    "\n",
    "theta3 = np.arccos(((D_hat**2+z_hat**2)-l2**2-l3**2)/(2*l2*l3)) - (np.deg2rad(90)-np.arctan(50/200))\n",
    "\n",
    "theta2= np.arctan2(D_hat,z_hat) - np.arctan2(l2*np.sin(np.deg2rad(22.06)),l1+l2*np.cos(np.deg2rad(22.06))) - np.arctan(50/200)\n",
    "#theta2= np.arctan2(z_hat,D_hat) - np.arctan2(l2*np.sin(theta3),l1+l2*np.cos(theta3)) - np.arctan(50/200) #np.arccos((l2**2+D_hat**2-l3**2)/(2*l2*D_hat)%1)\n",
    "\n",
    "#theta2_2=  +np.arctan2(z_hat,D_hat) + np.arctan2(l2*np.sin(.2792-theta3),l1+l2*np.cos(.2792-theta3)) #- 0.23660\n",
    "\n",
    "theta4 = psi - theta2 - theta3"
   ]
  },
  {
   "cell_type": "code",
   "execution_count": 288,
   "metadata": {},
   "outputs": [
    {
     "name": "stdout",
     "output_type": "stream",
     "text": [
      "theta1:-43.504580882672116,theta2:71.87482334615886\n",
      "theta3:30.880432539496503,theta4:-19.722001756146742,theta5:0.0\n"
     ]
    }
   ],
   "source": [
    "print(f\"theta1:{np.rad2deg(theta1)},theta2:{np.rad2deg((theta2))}\")#,theta2_2:{np.rad2deg(theta2_2)}\")\n",
    "print(f\"theta3:{np.rad2deg((theta3))},theta4:{np.rad2deg(theta4)},theta5:{np.rad2deg(theta5)}\")"
   ]
  },
  {
   "cell_type": "code",
   "execution_count": 280,
   "metadata": {},
   "outputs": [
    {
     "name": "stdout",
     "output_type": "stream",
     "text": [
      "14.036243467926479\n"
     ]
    }
   ],
   "source": [
    "print(np.rad2deg(np.arctan(50/200)))"
   ]
  },
  {
   "cell_type": "code",
   "execution_count": 200,
   "metadata": {},
   "outputs": [
    {
     "data": {
      "text/plain": [
       "0.637522932822391"
      ]
     },
     "execution_count": 200,
     "metadata": {},
     "output_type": "execute_result"
    }
   ],
   "source": [
    "(l2**2+D_hat**2-l3**2)/(2*l2*D_hat) % 1"
   ]
  },
  {
   "cell_type": "code",
   "execution_count": 220,
   "metadata": {},
   "outputs": [
    {
     "data": {
      "text/plain": [
       "253.13087403375033"
      ]
     },
     "execution_count": 220,
     "metadata": {},
     "output_type": "execute_result"
    }
   ],
   "source": [
    "D_hat"
   ]
  },
  {
   "cell_type": "code",
   "execution_count": 221,
   "metadata": {},
   "outputs": [
    {
     "data": {
      "text/plain": [
       "113.91569064515357"
      ]
     },
     "execution_count": 221,
     "metadata": {},
     "output_type": "execute_result"
    }
   ],
   "source": [
    "z_hat"
   ]
  },
  {
   "cell_type": "code",
   "execution_count": 91,
   "metadata": {},
   "outputs": [
    {
     "data": {
      "text/plain": [
       "-56.18897571084204"
      ]
     },
     "execution_count": 91,
     "metadata": {},
     "output_type": "execute_result"
    }
   ],
   "source": [
    "((D_hat**2+z_hat**2)-l2**2-l3**2)/(2*l2*l3)"
   ]
  },
  {
   "cell_type": "code",
   "execution_count": 103,
   "metadata": {},
   "outputs": [
    {
     "data": {
      "text/plain": [
       "73.8428006364605"
      ]
     },
     "execution_count": 103,
     "metadata": {},
     "output_type": "execute_result"
    }
   ],
   "source": [
    "np.rad2deg(dh_params[2][3])"
   ]
  },
  {
   "cell_type": "code",
   "execution_count": 114,
   "metadata": {},
   "outputs": [
    {
     "data": {
      "text/plain": [
       "-76.44402902635444"
      ]
     },
     "execution_count": 114,
     "metadata": {},
     "output_type": "execute_result"
    }
   ],
   "source": [
    "np.rad2deg(-1.3342)"
   ]
  },
  {
   "cell_type": "code",
   "execution_count": 222,
   "metadata": {},
   "outputs": [
    {
     "data": {
      "text/plain": [
       "0.28200000000000003"
      ]
     },
     "execution_count": 222,
     "metadata": {},
     "output_type": "execute_result"
    }
   ],
   "source": [
    "1.5708-1.2888"
   ]
  },
  {
   "cell_type": "code",
   "execution_count": 193,
   "metadata": {},
   "outputs": [
    {
     "data": {
      "text/plain": [
       "0.2792526803190927"
      ]
     },
     "execution_count": 193,
     "metadata": {},
     "output_type": "execute_result"
    }
   ],
   "source": [
    "np.deg2rad(16)"
   ]
  },
  {
   "cell_type": "code",
   "execution_count": null,
   "metadata": {},
   "outputs": [],
   "source": []
  },
  {
   "cell_type": "code",
   "execution_count": null,
   "metadata": {},
   "outputs": [],
   "source": []
  }
 ],
 "metadata": {
  "kernelspec": {
   "display_name": "Python 3",
   "language": "python",
   "name": "python3"
  },
  "language_info": {
   "codemirror_mode": {
    "name": "ipython",
    "version": 3
   },
   "file_extension": ".py",
   "mimetype": "text/x-python",
   "name": "python",
   "nbconvert_exporter": "python",
   "pygments_lexer": "ipython3",
   "version": "3.10.12"
  }
 },
 "nbformat": 4,
 "nbformat_minor": 2
}
